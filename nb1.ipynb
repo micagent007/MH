{
 "cells": [
  {
   "cell_type": "code",
   "execution_count": 13,
   "id": "574170bf-33f7-4a05-b0bc-4022bc7367ea",
   "metadata": {},
   "outputs": [
    {
     "name": "stdout",
     "output_type": "stream",
     "text": [
      "Hello World"
     ]
    }
   ],
   "source": [
    "print(\"Hello World\")"
   ]
  },
  {
   "cell_type": "code",
   "execution_count": null,
   "id": "8d31039e",
   "metadata": {},
   "outputs": [
    {
     "name": "stdout",
     "output_type": "stream",
     "text": [
      "r : [23 10 15 13 17 10 13 6 100 21 20 100 100 25 100; 17 13 8 23 11 18 7 22 13 5 24 24 15 10 100; 22 17 22 23 20 11 17 25 23 9 22 20 15 9 25; 5 19 25 16 15 10 18 9 11 20 7 21 15 8 25; 22 9 10 23 19 21 17 15 15 17 25 19 10 9 100]\n",
      "c : [22 21 16 17 21 15 17 22 22 25 18 20 24 15 22; 23 24 19 15 16 21 15 25 16 21 20 19 16 23 20; 21 20 21 25 21 20 21 19 17 16 25 19 15 15 15; 17 21 25 25 23 22 20 19 20 25 15 20 21 25 23; 15 25 23 19 17 17 25 24 24 17 24 19 18 19 16]\n",
      "b : [32, 37, 44, 35, 40]\n",
      "m : 5\n",
      "t : 15\n"
     ]
    }
   ],
   "source": [
    "gap = GAP(\"Instances/gap1.txt\", 0)\n",
    "\n",
    "variables = [\"r\", \"c\", \"b\", \"m\", \"t\"]\n",
    "values = [gap.r, gap.c, gap.b, gap.m, gap.t]\n",
    "\n",
    "for i in 1:length(variables)\n",
    "    println(\"$(variables[i]) : $(values[i])\")\n",
    "end"
   ]
  },
  {
   "cell_type": "code",
   "execution_count": null,
   "id": "5b77868a",
   "metadata": {},
   "outputs": [
    {
     "data": {
      "text/plain": [
       "5×15 Matrix{Any}:\n",
       " 23  10  15  13  17  10  13   6   9  21  20   7   9  25   8\n",
       " 17  13   8  23  11  18   7  22  13   5  24  24  15  10  22\n",
       " 22  17  22  23  20  11  17  25  23   9  22  20  15   9  25\n",
       "  5  19  25  16  15  10  18   9  11  20   7  21  15   8  25\n",
       " 22   9  10  23  19  21  17  15  15  17  25  19  10   9  21"
      ]
     },
     "metadata": {},
     "output_type": "display_data"
    }
   ],
   "source": [
    "# r : quantité de ressources consommées par tâche (matrix)\n",
    "gap.r"
   ]
  },
  {
   "cell_type": "code",
   "execution_count": null,
   "id": "cf2da2c6",
   "metadata": {},
   "outputs": [
    {
     "data": {
      "text/plain": [
       "5×15 Matrix{Any}:\n",
       " 22  21  16  17  21  15  17  22  22  25  18  20  24  15  22\n",
       " 23  24  19  15  16  21  15  25  16  21  20  19  16  23  20\n",
       " 21  20  21  25  21  20  21  19  17  16  25  19  15  15  15\n",
       " 17  21  25  25  23  22  20  19  20  25  15  20  21  25  23\n",
       " 15  25  23  19  17  17  25  24  24  17  24  19  18  19  16"
      ]
     },
     "metadata": {},
     "output_type": "display_data"
    }
   ],
   "source": [
    "# c : gain par tâche pour chaque agent (matrix)\n",
    "gap.c"
   ]
  },
  {
   "cell_type": "code",
   "execution_count": null,
   "id": "dcf44ebc",
   "metadata": {},
   "outputs": [
    {
     "data": {
      "text/plain": [
       "5-element Vector{Any}:\n",
       " 32\n",
       " 37\n",
       " 44\n",
       " 35\n",
       " 40"
      ]
     },
     "metadata": {},
     "output_type": "display_data"
    }
   ],
   "source": [
    "# b : quantité de ressource de l'agent i (vect)\n",
    "gap.b"
   ]
  },
  {
   "cell_type": "code",
   "execution_count": null,
   "id": "6d136212",
   "metadata": {},
   "outputs": [
    {
     "data": {
      "text/plain": [
       "5"
      ]
     },
     "metadata": {},
     "output_type": "display_data"
    }
   ],
   "source": [
    "# m : nombre d'agents (int) --> nombre de lignes\n",
    "gap.m"
   ]
  },
  {
   "cell_type": "code",
   "execution_count": null,
   "id": "e7ce62c2",
   "metadata": {},
   "outputs": [
    {
     "data": {
      "text/plain": [
       "15"
      ]
     },
     "metadata": {},
     "output_type": "display_data"
    }
   ],
   "source": [
    "# t : nombre de tâches (int) --> nombre de colonnes\n",
    "gap.t"
   ]
  },
  {
   "cell_type": "markdown",
   "id": "e78de88e",
   "metadata": {},
   "source": [
    "### Heuristique gloutonne"
   ]
  },
  {
   "cell_type": "markdown",
   "id": "df568824",
   "metadata": {},
   "source": [
    "### Create CSV"
   ]
  },
  {
   "cell_type": "code",
   "execution_count": null,
   "id": "85b1e6da",
   "metadata": {},
   "outputs": [
    {
     "data": {
      "text/plain": [
       "hill_climbing! (generic function with 1 method)"
      ]
     },
     "metadata": {},
     "output_type": "display_data"
    }
   ],
   "source": [
    "include(\"create_csv.jl\")\n",
    "# create_csv()"
   ]
  },
  {
   "cell_type": "markdown",
   "id": "30e1d8c9",
   "metadata": {},
   "source": [
    "### Voisinages"
   ]
  },
  {
   "cell_type": "code",
   "execution_count": 58,
   "id": "ea8c3183",
   "metadata": {},
   "outputs": [
    {
     "data": {
      "text/plain": [
       "20-element Vector{Int64}:\n",
       " 3\n",
       " 1\n",
       " 1\n",
       " 2\n",
       " 5\n",
       " 2\n",
       " 3\n",
       " 2\n",
       " 5\n",
       " 3\n",
       " 2\n",
       " 4\n",
       " 4\n",
       " 4\n",
       " 1\n",
       " 3\n",
       " 5\n",
       " 4\n",
       " 1\n",
       " 5"
      ]
     },
     "metadata": {},
     "output_type": "display_data"
    }
   ],
   "source": [
    "assignment"
   ]
  },
  {
   "cell_type": "code",
   "execution_count": 49,
   "id": "bc6f3baa",
   "metadata": {},
   "outputs": [
    {
     "data": {
      "text/plain": [
       "true"
      ]
     },
     "metadata": {},
     "output_type": "display_data"
    }
   ],
   "source": [
    "is_feasible(assignment, \"Instances/gap2.txt\", 2)"
   ]
  },
  {
   "cell_type": "code",
   "execution_count": 50,
   "id": "fa5675f8",
   "metadata": {},
   "outputs": [
    {
     "data": {
      "text/plain": [
       "false"
      ]
     },
     "metadata": {},
     "output_type": "display_data"
    }
   ],
   "source": [
    "is_feasible(swap_tasks(assignment, 1, 2), \"Instances/gap2.txt\", 2)"
   ]
  },
  {
   "cell_type": "markdown",
   "id": "7d5ff273",
   "metadata": {},
   "source": [
    "### Recuit"
   ]
  },
  {
   "cell_type": "code",
   "execution_count": 102,
   "id": "25005d3c",
   "metadata": {},
   "outputs": [
    {
     "data": {
      "text/plain": [
       "recuit (generic function with 2 methods)"
      ]
     },
     "metadata": {},
     "output_type": "display_data"
    }
   ],
   "source": [
    "include(\"Neighbours.jl\")\n",
    "using Random\n",
    "\n",
    "function recuit(x0, filename, id, mu, T0, iter_max)\n",
    "\n",
    "    count = 0\n",
    "\n",
    "    x_max = copy(x0)\n",
    "    x = copy(x0)\n",
    "    T = T0\n",
    "\n",
    "    while T > 1\n",
    "        for iter in 1:iter_max\n",
    "            i = rand(1:m)\n",
    "            j = rand(1:m)\n",
    "            while j == i\n",
    "                j = rand(1:m)\n",
    "            end\n",
    "            x_p = swap_tasks(x, i, j)\n",
    "            \n",
    "            if is_feasible(x_p, filename, id)\n",
    "                delta = cal_cost(x_p, filename, id) - cal_cost(x, filename, id)\n",
    "                if delta > 0 # Maximisation (< 0 pour une minimisation)\n",
    "                    # println(\"better\")\n",
    "                    x = copy(x_p)\n",
    "                    if cal_cost(x, filename, id) > cal_cost(x_max, filename, id)\n",
    "                        print(\"better\")\n",
    "                        x_max = copy(x)\n",
    "                    end\n",
    "                else\n",
    "                    q = rand()\n",
    "                    if q <= exp(-delta/T)\n",
    "                        x = x_p\n",
    "                    end\n",
    "                end\n",
    "            end\n",
    "        end\n",
    "        T = mu * T\n",
    "        count += 1\n",
    "        println(T)\n",
    "    end\n",
    "    return x\n",
    "end"
   ]
  },
  {
   "cell_type": "code",
   "execution_count": 125,
   "id": "15864f61",
   "metadata": {},
   "outputs": [
    {
     "data": {
      "text/plain": [
       "recuit (generic function with 1 method)"
      ]
     },
     "metadata": {},
     "output_type": "display_data"
    }
   ],
   "source": [
    "include(\"Gap_struc.jl\")"
   ]
  },
  {
   "cell_type": "code",
   "execution_count": 121,
   "id": "3a82736c",
   "metadata": {},
   "outputs": [
    {
     "data": {
      "text/plain": [
       "GAP([18 6 … 5 13; 12 16 … 12 18; … ; 6 23 … 24 13; 16 10 … 8 9], [11 19 … 18 14; 13 16 … 17 15; … ; 17 12 … 12 11; 19 22 … 13 13], [45, 51, 48, 45, 46], 5, 20, [0, 0, 0, 0, 0, 0, 0, 0, 0, 0, 0, 0, 0, 0, 0, 0, 0, 0, 0, 0])"
      ]
     },
     "metadata": {},
     "output_type": "display_data"
    }
   ],
   "source": [
    "gap = GAP(\"Instances/gap2.txt\", 2)"
   ]
  },
  {
   "cell_type": "code",
   "execution_count": 122,
   "id": "50e74337",
   "metadata": {},
   "outputs": [],
   "source": [
    "find_greedy_solution!(gap)"
   ]
  },
  {
   "cell_type": "code",
   "execution_count": 123,
   "id": "3d686691",
   "metadata": {},
   "outputs": [
    {
     "data": {
      "text/plain": [
       "20-element Vector{Int64}:\n",
       " 4\n",
       " 1\n",
       " 1\n",
       " 3\n",
       " 4\n",
       " 2\n",
       " 3\n",
       " 2\n",
       " 5\n",
       " 5\n",
       " 2\n",
       " 4\n",
       " 3\n",
       " 4\n",
       " 1\n",
       " 1\n",
       " 1\n",
       " 4\n",
       " 1\n",
       " 5"
      ]
     },
     "metadata": {},
     "output_type": "display_data"
    }
   ],
   "source": [
    "gap.task_assignation"
   ]
  },
  {
   "cell_type": "code",
   "execution_count": 126,
   "id": "80e0596e",
   "metadata": {},
   "outputs": [
    {
     "ename": "UndefVarError",
     "evalue": "UndefVarError: `swap_tasks` not defined in `Main`\nSuggestion: check for spelling errors or missing imports.",
     "output_type": "error",
     "traceback": [
      "UndefVarError: `swap_tasks` not defined in `Main`\n",
      "Suggestion: check for spelling errors or missing imports.\n",
      "\n",
      "Stacktrace:\n",
      " [1] recuit(gap::GAP, mu::Float64, T0::Int64, iter_max::Int64)\n",
      "   @ Main ~/Documents/MPRO/1.Tronc Commun/MH/Projet/MH/Gap_struc.jl:257\n",
      " [2] top-level scope\n",
      "   @ ~/Documents/MPRO/1.Tronc Commun/MH/Projet/MH/jl_notebook_cell_df34fa98e69747e1a8f8a730347b8e2f_X56sZmlsZQ==.jl:1"
     ]
    }
   ],
   "source": [
    "x = recuit(gap, 0.95, 100, 1000)"
   ]
  },
  {
   "cell_type": "code",
   "execution_count": 104,
   "id": "921d352f",
   "metadata": {},
   "outputs": [
    {
     "data": {
      "text/plain": [
       "true"
      ]
     },
     "metadata": {},
     "output_type": "display_data"
    }
   ],
   "source": [
    "is_feasible(x, \"Instances/gap2.txt\", 2)"
   ]
  },
  {
   "cell_type": "code",
   "execution_count": 105,
   "id": "5156ceba",
   "metadata": {},
   "outputs": [
    {
     "data": {
      "text/plain": [
       "377"
      ]
     },
     "metadata": {},
     "output_type": "display_data"
    }
   ],
   "source": [
    "cal_cost(x, \"Instances/gap2.txt\", 2)"
   ]
  },
  {
   "cell_type": "code",
   "execution_count": 106,
   "id": "19eb7044",
   "metadata": {},
   "outputs": [
    {
     "data": {
      "text/plain": [
       "([3, 1, 1, 2, 5, 2, 3, 2, 5, 3, 2, 4, 4, 4, 1, 3, 5, 4, 1, 5], 358)"
      ]
     },
     "metadata": {},
     "output_type": "display_data"
    }
   ],
   "source": [
    "greedy(\"Instances/gap2.txt\", 2)"
   ]
  },
  {
   "cell_type": "code",
   "execution_count": 99,
   "id": "eaad3547",
   "metadata": {},
   "outputs": [
    {
     "data": {
      "text/plain": [
       "358"
      ]
     },
     "metadata": {},
     "output_type": "display_data"
    }
   ],
   "source": [
    "cost"
   ]
  },
  {
   "cell_type": "markdown",
   "id": "3e1e7f7e",
   "metadata": {},
   "source": [
    "### Heuristique gloutonne"
   ]
  },
  {
   "cell_type": "code",
   "execution_count": 36,
   "id": "b0d72f39",
   "metadata": {},
   "outputs": [
    {
     "data": {
      "text/plain": [
       "5×15 Matrix{Float64}:\n",
       " 0.956522  2.1      1.06667   1.30769   …  2.66667  0.6      2.75\n",
       " 1.35294   1.84615  2.375     0.652174     1.06667  2.3      0.909091\n",
       " 0.954545  1.17647  0.954545  1.08696      1.0      1.66667  0.6\n",
       " 3.4       1.10526  1.0       1.5625       1.4      3.125    0.92\n",
       " 0.681818  2.77778  2.3       0.826087     1.8      2.11111  0.761905"
      ]
     },
     "metadata": {},
     "output_type": "display_data"
    }
   ],
   "source": [
    "ratio = c./r"
   ]
  },
  {
   "cell_type": "code",
   "execution_count": 37,
   "id": "ce0b9c0b",
   "metadata": {},
   "outputs": [
    {
     "data": {
      "text/plain": [
       "CartesianIndex(2, 10)"
      ]
     },
     "metadata": {},
     "output_type": "display_data"
    }
   ],
   "source": [
    "argmax(ratio)"
   ]
  },
  {
   "cell_type": "code",
   "execution_count": 38,
   "id": "51eb325b",
   "metadata": {},
   "outputs": [
    {
     "data": {
      "text/plain": [
       "5-element Vector{Float64}:\n",
       " 0.0\n",
       " 0.0\n",
       " 0.0\n",
       " 0.0\n",
       " 0.0"
      ]
     },
     "metadata": {},
     "output_type": "display_data"
    }
   ],
   "source": [
    "current_ressource = zeros(m)"
   ]
  },
  {
   "cell_type": "code",
   "execution_count": 39,
   "id": "53d2dde5",
   "metadata": {},
   "outputs": [
    {
     "data": {
      "text/plain": [
       "true"
      ]
     },
     "metadata": {},
     "output_type": "display_data"
    }
   ],
   "source": [
    "current_ressource[1] < b[1]"
   ]
  },
  {
   "cell_type": "code",
   "execution_count": 40,
   "id": "fb0d6b5b",
   "metadata": {},
   "outputs": [
    {
     "ename": "BoundsError",
     "evalue": "BoundsError: attempt to access 5×15 Matrix{Float64} at index [10, 1:15]",
     "output_type": "error",
     "traceback": [
      "BoundsError: attempt to access 5×15 Matrix{Float64} at index [10, 1:15]\n",
      "\n",
      "Stacktrace:\n",
      " [1] throw_boundserror(A::Matrix{Float64}, I::Tuple{Int64, Base.Slice{Base.OneTo{Int64}}})\n",
      "   @ Base ./essentials.jl:14\n",
      " [2] checkbounds\n",
      "   @ ./abstractarray.jl:699 [inlined]\n",
      " [3] _getindex\n",
      "   @ ./multidimensional.jl:914 [inlined]\n",
      " [4] getindex(::Matrix{Float64}, ::Int64, ::Function)\n",
      "   @ Base ./abstractarray.jl:1312\n",
      " [5] top-level scope\n",
      "   @ ~/Documents/MPRO/1.Tronc Commun/MH/Projet/MH/jl_notebook_cell_df34fa98e69747e1a8f8a730347b8e2f_X42sZmlsZQ==.jl:1"
     ]
    }
   ],
   "source": [
    "ratio[10,:]"
   ]
  },
  {
   "cell_type": "code",
   "execution_count": 41,
   "id": "ebcb3c84",
   "metadata": {},
   "outputs": [
    {
     "data": {
      "text/plain": [
       "5×15 Matrix{Float64}:\n",
       " 0.956522  2.1      1.06667   1.30769   …  2.66667  0.6      2.75\n",
       " 1.35294   1.84615  2.375     0.652174     1.06667  2.3      0.909091\n",
       " 0.954545  1.17647  0.954545  1.08696      1.0      1.66667  0.6\n",
       " 3.4       1.10526  1.0       1.5625       1.4      3.125    0.92\n",
       " 0.681818  2.77778  2.3       0.826087     1.8      2.11111  0.761905"
      ]
     },
     "metadata": {},
     "output_type": "display_data"
    }
   ],
   "source": [
    "ratio"
   ]
  },
  {
   "cell_type": "code",
   "execution_count": 42,
   "id": "cb23f4fc",
   "metadata": {},
   "outputs": [],
   "source": []
  }
 ],
 "metadata": {
  "kernelspec": {
   "display_name": "Julia 1.11.0",
   "language": "julia",
   "name": "julia-1.11"
  },
  "language_info": {
   "file_extension": ".jl",
   "mimetype": "application/julia",
   "name": "julia",
   "version": "1.11.0"
  }
 },
 "nbformat": 4,
 "nbformat_minor": 5
}
