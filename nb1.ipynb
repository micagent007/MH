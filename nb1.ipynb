{
 "cells": [
  {
   "cell_type": "code",
   "execution_count": 51,
   "id": "574170bf-33f7-4a05-b0bc-4022bc7367ea",
   "metadata": {},
   "outputs": [
    {
     "name": "stdout",
     "output_type": "stream",
     "text": [
      "Hello World"
     ]
    }
   ],
   "source": [
    "print(\"Hello World\")"
   ]
  },
  {
   "cell_type": "code",
   "execution_count": 52,
   "id": "19b7322e-9d51-47c3-b8f5-cfa7e25f2f9e",
   "metadata": {},
   "outputs": [],
   "source": [
    "include(\"parser.jl\")\n",
    "\n",
    "r, c, b, m, t = readfile(\"Instances/gap1.txt\",2);"
   ]
  },
  {
   "cell_type": "code",
   "execution_count": 53,
   "id": "8d31039e",
   "metadata": {},
   "outputs": [
    {
     "name": "stdout",
     "output_type": "stream",
     "text": [
      "r : Any[23 10 15 13 17 10 13 6 9 21 20 7 9 25 8; 17 13 8 23 11 18 7 22 13 5 24 24 15 10 22; 22 17 22 23 20 11 17 25 23 9 22 20 15 9 25; 5 19 25 16 15 10 18 9 11 20 7 21 15 8 25; 22 9 10 23 19 21 17 15 15 17 25 19 10 9 21]\n",
      "c : Any[22 21 16 17 21 15 17 22 22 25 18 20 24 15 22; 23 24 19 15 16 21 15 25 16 21 20 19 16 23 20; 21 20 21 25 21 20 21 19 17 16 25 19 15 15 15; 17 21 25 25 23 22 20 19 20 25 15 20 21 25 23; 15 25 23 19 17 17 25 24 24 17 24 19 18 19 16]\n",
      "b : Any[32, 37, 44, 35, 40]\n",
      "m : 5\n",
      "t : 15\n"
     ]
    }
   ],
   "source": [
    "variables = [\"r\", \"c\", \"b\", \"m\", \"t\"]\n",
    "values = [r, c, b, m, t]\n",
    "\n",
    "for i in 1:length(variables)\n",
    "    println(\"$(variables[i]) : $(values[i])\")\n",
    "end"
   ]
  },
  {
   "cell_type": "code",
   "execution_count": 54,
   "id": "5b77868a",
   "metadata": {},
   "outputs": [
    {
     "data": {
      "text/plain": [
       "5×15 Matrix{Any}:\n",
       " 23  10  15  13  17  10  13   6   9  21  20   7   9  25   8\n",
       " 17  13   8  23  11  18   7  22  13   5  24  24  15  10  22\n",
       " 22  17  22  23  20  11  17  25  23   9  22  20  15   9  25\n",
       "  5  19  25  16  15  10  18   9  11  20   7  21  15   8  25\n",
       " 22   9  10  23  19  21  17  15  15  17  25  19  10   9  21"
      ]
     },
     "metadata": {},
     "output_type": "display_data"
    }
   ],
   "source": [
    "# r : quantité de ressources consommées par tâche (matrix)\n",
    "r"
   ]
  },
  {
   "cell_type": "code",
   "execution_count": 55,
   "id": "cf2da2c6",
   "metadata": {},
   "outputs": [
    {
     "data": {
      "text/plain": [
       "5×15 Matrix{Any}:\n",
       " 22  21  16  17  21  15  17  22  22  25  18  20  24  15  22\n",
       " 23  24  19  15  16  21  15  25  16  21  20  19  16  23  20\n",
       " 21  20  21  25  21  20  21  19  17  16  25  19  15  15  15\n",
       " 17  21  25  25  23  22  20  19  20  25  15  20  21  25  23\n",
       " 15  25  23  19  17  17  25  24  24  17  24  19  18  19  16"
      ]
     },
     "metadata": {},
     "output_type": "display_data"
    }
   ],
   "source": [
    "# c : gain par tâche pour chaque agent (matrix)\n",
    "c"
   ]
  },
  {
   "cell_type": "code",
   "execution_count": 56,
   "id": "dcf44ebc",
   "metadata": {},
   "outputs": [
    {
     "data": {
      "text/plain": [
       "5-element Vector{Any}:\n",
       " 32\n",
       " 37\n",
       " 44\n",
       " 35\n",
       " 40"
      ]
     },
     "metadata": {},
     "output_type": "display_data"
    }
   ],
   "source": [
    "# b : quantité de ressource de l'agent i (vect)\n",
    "b"
   ]
  },
  {
   "cell_type": "code",
   "execution_count": 57,
   "id": "6d136212",
   "metadata": {},
   "outputs": [
    {
     "data": {
      "text/plain": [
       "5"
      ]
     },
     "metadata": {},
     "output_type": "display_data"
    }
   ],
   "source": [
    "# m : nombre d'agents (int) --> nombre de lignes\n",
    "m"
   ]
  },
  {
   "cell_type": "code",
   "execution_count": 58,
   "id": "e7ce62c2",
   "metadata": {},
   "outputs": [
    {
     "data": {
      "text/plain": [
       "15"
      ]
     },
     "metadata": {},
     "output_type": "display_data"
    }
   ],
   "source": [
    "# t : nombre de tâches (int) --> nombre de colonnes\n",
    "t"
   ]
  },
  {
   "cell_type": "markdown",
   "id": "e78de88e",
   "metadata": {},
   "source": [
    "### Heuristique gloutonne"
   ]
  },
  {
   "cell_type": "code",
   "execution_count": 121,
   "id": "10852caf",
   "metadata": {},
   "outputs": [
    {
     "data": {
      "text/plain": [
       "greedy (generic function with 1 method)"
      ]
     },
     "metadata": {},
     "output_type": "display_data"
    }
   ],
   "source": [
    "function greedy(file, instance)\n",
    "\n",
    "    r, c, b, m, t = readfile(file, instance);\n",
    "\n",
    "    current_load = fill(0, m)\n",
    "    assignment = fill(0, t)\n",
    "    cost = 0\n",
    "\n",
    "    end_condition = fill(100, m, t)\n",
    "\n",
    "    while r != end_condition\n",
    "        # Booléen pour sortir de la boucle si rien ne se passe\n",
    "        feasibility = false\n",
    "        for i in 1:m\n",
    "            # Si la tâche qui nécessite le moins de ressources satisfait la contrainte\n",
    "            min = minimum(r[i, :])\n",
    "            amin = argmin(r[i, :])\n",
    "            if current_load[i] + min <= b[i]\n",
    "                feasibility = true\n",
    "                # On assigne la nouvelle tâche à l'agent\n",
    "                assignment[amin] = i\n",
    "                # On augmente sa charge\n",
    "                current_load[i] += min\n",
    "                # On ajoute le coût associée\n",
    "                cost += c[i, amin]\n",
    "                # On enlève la tâche des tâches à assigner\n",
    "                r[:, amin] .= 100\n",
    "            end\n",
    "        end\n",
    "        if feasibility == false\n",
    "            # Pas de solution, on sort de la boucle\n",
    "            # print(\"Pas de solution.\")\n",
    "            # break\n",
    "            return 0\n",
    "        end\n",
    "\n",
    "    end\n",
    "    # println(assignment)\n",
    "    # println(cost)\n",
    "    return cost\n",
    "end"
   ]
  },
  {
   "cell_type": "markdown",
   "id": "df568824",
   "metadata": {},
   "source": [
    "### Create CSV"
   ]
  },
  {
   "cell_type": "code",
   "execution_count": 133,
   "id": "e527f192",
   "metadata": {},
   "outputs": [],
   "source": [
    "using DataFrames\n",
    "using CSV"
   ]
  },
  {
   "cell_type": "code",
   "execution_count": 83,
   "id": "5ad5b027",
   "metadata": {},
   "outputs": [
    {
     "data": {
      "text/plain": [
       "16-element Vector{String}:\n",
       " \"gap1.txt\"\n",
       " \"gap10.txt\"\n",
       " \"gap11.txt\"\n",
       " \"gap12.txt\"\n",
       " \"gap2.txt\"\n",
       " \"gap3.txt\"\n",
       " \"gap4.txt\"\n",
       " \"gap5.txt\"\n",
       " \"gap6.txt\"\n",
       " \"gap7.txt\"\n",
       " \"gap8.txt\"\n",
       " \"gap9.txt\"\n",
       " \"gapa.txt\"\n",
       " \"gapb.txt\"\n",
       " \"gapc.txt\"\n",
       " \"gapd.txt\""
      ]
     },
     "metadata": {},
     "output_type": "display_data"
    }
   ],
   "source": [
    "files = readdir(\"Instances\")"
   ]
  },
  {
   "cell_type": "code",
   "execution_count": 125,
   "id": "9f0a4d52",
   "metadata": {},
   "outputs": [
    {
     "data": {
      "text/plain": [
       "294"
      ]
     },
     "metadata": {},
     "output_type": "display_data"
    }
   ],
   "source": [
    "greedy(\"Instances/gap1.txt\", 0)"
   ]
  },
  {
   "cell_type": "code",
   "execution_count": 113,
   "id": "fb8e5b4b",
   "metadata": {},
   "outputs": [
    {
     "data": {
      "text/html": [
       "<div><div style = \"float: left;\"><span>0×4 DataFrame</span></div><div style = \"clear: both;\"></div></div><div class = \"data-frame\" style = \"overflow-x: scroll;\"><table class = \"data-frame\" style = \"margin-bottom: 6px;\"><thead><tr class = \"header\"><th class = \"rowNumber\" style = \"font-weight: bold; text-align: right;\">Row</th><th style = \"text-align: left;\">id</th><th style = \"text-align: left;\">file</th><th style = \"text-align: left;\">instance</th><th style = \"text-align: left;\">performance</th></tr><tr class = \"subheader headerLastRow\"><th class = \"rowNumber\" style = \"font-weight: bold; text-align: right;\"></th><th title = \"Int64\" style = \"text-align: left;\">Int64</th><th title = \"String\" style = \"text-align: left;\">String</th><th title = \"Int64\" style = \"text-align: left;\">Int64</th><th title = \"Int64\" style = \"text-align: left;\">Int64</th></tr></thead><tbody></tbody></table></div>"
      ],
      "text/latex": [
       "\\begin{tabular}{r|cccc}\n",
       "\t& id & file & instance & performance\\\\\n",
       "\t\\hline\n",
       "\t& Int64 & String & Int64 & Int64\\\\\n",
       "\t\\hline\n",
       "\\end{tabular}\n"
      ],
      "text/plain": [
       "\u001b[1m0×4 DataFrame\u001b[0m\n",
       "\u001b[1m Row \u001b[0m│\u001b[1m id    \u001b[0m\u001b[1m file   \u001b[0m\u001b[1m instance \u001b[0m\u001b[1m performance \u001b[0m\n",
       "     │\u001b[90m Int64 \u001b[0m\u001b[90m String \u001b[0m\u001b[90m Int64    \u001b[0m\u001b[90m Int64       \u001b[0m\n",
       "─────┴──────────────────────────────────────"
      ]
     },
     "metadata": {},
     "output_type": "display_data"
    }
   ],
   "source": [
    "df = DataFrame(id = Int[], file = String[], instance = Int[], performance = Int[])"
   ]
  },
  {
   "cell_type": "code",
   "execution_count": 116,
   "id": "32ee737a",
   "metadata": {},
   "outputs": [
    {
     "data": {
      "text/html": [
       "<div><div style = \"float: left;\"><span>3×4 DataFrame</span></div><div style = \"clear: both;\"></div></div><div class = \"data-frame\" style = \"overflow-x: scroll;\"><table class = \"data-frame\" style = \"margin-bottom: 6px;\"><thead><tr class = \"header\"><th class = \"rowNumber\" style = \"font-weight: bold; text-align: right;\">Row</th><th style = \"text-align: left;\">id</th><th style = \"text-align: left;\">file</th><th style = \"text-align: left;\">instance</th><th style = \"text-align: left;\">performance</th></tr><tr class = \"subheader headerLastRow\"><th class = \"rowNumber\" style = \"font-weight: bold; text-align: right;\"></th><th title = \"Int64\" style = \"text-align: left;\">Int64</th><th title = \"String\" style = \"text-align: left;\">String</th><th title = \"Int64\" style = \"text-align: left;\">Int64</th><th title = \"Int64\" style = \"text-align: left;\">Int64</th></tr></thead><tbody><tr><td class = \"rowNumber\" style = \"font-weight: bold; text-align: right;\">1</td><td style = \"text-align: right;\">1</td><td style = \"text-align: left;\">test</td><td style = \"text-align: right;\">1</td><td style = \"text-align: right;\">10</td></tr><tr><td class = \"rowNumber\" style = \"font-weight: bold; text-align: right;\">2</td><td style = \"text-align: right;\">1</td><td style = \"text-align: left;\">test</td><td style = \"text-align: right;\">1</td><td style = \"text-align: right;\">10</td></tr><tr><td class = \"rowNumber\" style = \"font-weight: bold; text-align: right;\">3</td><td style = \"text-align: right;\">1</td><td style = \"text-align: left;\">test</td><td style = \"text-align: right;\">1</td><td style = \"text-align: right;\">10</td></tr></tbody></table></div>"
      ],
      "text/latex": [
       "\\begin{tabular}{r|cccc}\n",
       "\t& id & file & instance & performance\\\\\n",
       "\t\\hline\n",
       "\t& Int64 & String & Int64 & Int64\\\\\n",
       "\t\\hline\n",
       "\t1 & 1 & test & 1 & 10 \\\\\n",
       "\t2 & 1 & test & 1 & 10 \\\\\n",
       "\t3 & 1 & test & 1 & 10 \\\\\n",
       "\\end{tabular}\n"
      ],
      "text/plain": [
       "\u001b[1m3×4 DataFrame\u001b[0m\n",
       "\u001b[1m Row \u001b[0m│\u001b[1m id    \u001b[0m\u001b[1m file   \u001b[0m\u001b[1m instance \u001b[0m\u001b[1m performance \u001b[0m\n",
       "     │\u001b[90m Int64 \u001b[0m\u001b[90m String \u001b[0m\u001b[90m Int64    \u001b[0m\u001b[90m Int64       \u001b[0m\n",
       "─────┼──────────────────────────────────────\n",
       "   1 │     1  test           1           10\n",
       "   2 │     1  test           1           10\n",
       "   3 │     1  test           1           10"
      ]
     },
     "metadata": {},
     "output_type": "display_data"
    }
   ],
   "source": [
    "push!(df, (1, \"test\", 1, 10))"
   ]
  },
  {
   "cell_type": "code",
   "execution_count": 138,
   "id": "fa44e3bc",
   "metadata": {},
   "outputs": [],
   "source": [
    "df = DataFrame(id = Int[], file = String[], instance = Int[], greedy_worker = Int[])\n",
    "id = 0\n",
    "\n",
    "for file in files\n",
    "    path = \"Instances/\"*file\n",
    "    nb_instances = parse(Int, readline(path))\n",
    "    for instance in 0:nb_instances-1\n",
    "        greedy_worker = greedy(path, instance)\n",
    "        push!(df, (id, path, instance, greedy_worker))\n",
    "        id += 1\n",
    "    end\n",
    "end"
   ]
  },
  {
   "cell_type": "code",
   "execution_count": 139,
   "id": "5749c698",
   "metadata": {},
   "outputs": [
    {
     "data": {
      "text/plain": [
       "\"output_csv\""
      ]
     },
     "metadata": {},
     "output_type": "display_data"
    }
   ],
   "source": [
    "CSV.write(\"output_csv\", df)"
   ]
  },
  {
   "cell_type": "code",
   "execution_count": null,
   "id": "b681faa1",
   "metadata": {},
   "outputs": [],
   "source": [
    "using CSV\n",
    "using DataFrames\n",
    "\n",
    "function read_instances_from_txt(filename)\n",
    "    # Ouvre le fichier et lit chaque ligne (suppose chaque instance est une ligne)\n",
    "    instances = []\n",
    "    open(filename, \"r\") do file\n",
    "        for line in eachline(file)\n",
    "            push!(instances, chomp(line))  # Enlève les retours à la ligne\n",
    "        end\n",
    "    end\n",
    "    return instances\n",
    "end\n",
    "\n",
    "function generate_csv_from_txt_files(folder_path, output_csv)\n",
    "    # Crée un DataFrame pour stocker toutes les instances\n",
    "    df = DataFrame(id = Int[], file = String[], instance = String[])\n",
    "    \n",
    "    # Parcourt chaque fichier txt dans le dossier\n",
    "    txt_files = filter(x -> endswith(x, \".txt\"), readdir(folder_path, join=true))\n",
    "    \n",
    "    id_counter = 1  # Initialisation d'un compteur d'ID pour chaque instance\n",
    "    for file in txt_files\n",
    "        instances = read_instances_from_txt(file)\n",
    "        for instance in instances\n",
    "            push!(df, (id_counter, file, instance))\n",
    "            id_counter += 1\n",
    "        end\n",
    "    end\n",
    "    \n",
    "    # Sauvegarde toutes les données dans un fichier CSV\n",
    "    CSV.write(output_csv, df)\n",
    "end\n",
    "\n",
    "# Appel de la fonction avec le chemin de votre dossier et le nom de sortie du CSV\n",
    "generate_csv_from_txt_files(\"chemin/vers/dossier/txt_files\", \"instances.csv\")"
   ]
  },
  {
   "cell_type": "markdown",
   "id": "30e1d8c9",
   "metadata": {},
   "source": [
    "### Voisinages"
   ]
  },
  {
   "cell_type": "code",
   "execution_count": null,
   "id": "ea8c3183",
   "metadata": {},
   "outputs": [],
   "source": []
  },
  {
   "cell_type": "markdown",
   "id": "7d5ff273",
   "metadata": {},
   "source": [
    "### Recuit"
   ]
  },
  {
   "cell_type": "code",
   "execution_count": null,
   "id": "25005d3c",
   "metadata": {},
   "outputs": [],
   "source": [
    "function recuit(solution_initiale)\n",
    "\n",
    "end"
   ]
  },
  {
   "cell_type": "code",
   "execution_count": 71,
   "id": "19eb7044",
   "metadata": {},
   "outputs": [
    {
     "name": "stdout",
     "output_type": "stream",
     "text": [
      "[3, 1, 1, 2, 5, 2, 3, 2, 5, 3, 2, 4, 4, 4, 1, 3, 5, 4, 1, 5]\n",
      "358\n"
     ]
    }
   ],
   "source": [
    "greedy(\"Instances/gap2.txt\", 2)"
   ]
  },
  {
   "cell_type": "code",
   "execution_count": 61,
   "id": "eaad3547",
   "metadata": {},
   "outputs": [
    {
     "data": {
      "text/plain": [
       "266"
      ]
     },
     "metadata": {},
     "output_type": "display_data"
    }
   ],
   "source": [
    "cost"
   ]
  },
  {
   "cell_type": "markdown",
   "id": "3e1e7f7e",
   "metadata": {},
   "source": [
    "### Heuristique gloutonne"
   ]
  },
  {
   "cell_type": "code",
   "execution_count": 62,
   "id": "b0d72f39",
   "metadata": {},
   "outputs": [
    {
     "data": {
      "text/plain": [
       "5×15 Matrix{Float64}:\n",
       " 0.956522  2.1      1.06667   1.30769   …  2.66667  0.6      2.75\n",
       " 1.35294   1.84615  2.375     0.652174     1.06667  2.3      0.909091\n",
       " 0.954545  1.17647  0.954545  1.08696      1.0      1.66667  0.6\n",
       " 3.4       1.10526  1.0       1.5625       1.4      3.125    0.92\n",
       " 0.681818  2.77778  2.3       0.826087     1.8      2.11111  0.761905"
      ]
     },
     "metadata": {},
     "output_type": "display_data"
    }
   ],
   "source": [
    "ratio = c./r"
   ]
  },
  {
   "cell_type": "code",
   "execution_count": 63,
   "id": "ce0b9c0b",
   "metadata": {},
   "outputs": [
    {
     "data": {
      "text/plain": [
       "CartesianIndex(2, 10)"
      ]
     },
     "metadata": {},
     "output_type": "display_data"
    }
   ],
   "source": [
    "argmax(ratio)"
   ]
  },
  {
   "cell_type": "code",
   "execution_count": 64,
   "id": "51eb325b",
   "metadata": {},
   "outputs": [
    {
     "data": {
      "text/plain": [
       "5-element Vector{Float64}:\n",
       " 0.0\n",
       " 0.0\n",
       " 0.0\n",
       " 0.0\n",
       " 0.0"
      ]
     },
     "metadata": {},
     "output_type": "display_data"
    }
   ],
   "source": [
    "current_ressource = zeros(m)"
   ]
  },
  {
   "cell_type": "code",
   "execution_count": 65,
   "id": "53d2dde5",
   "metadata": {},
   "outputs": [
    {
     "data": {
      "text/plain": [
       "true"
      ]
     },
     "metadata": {},
     "output_type": "display_data"
    }
   ],
   "source": [
    "current_ressource[1] < b[1]"
   ]
  },
  {
   "cell_type": "code",
   "execution_count": 66,
   "id": "fb0d6b5b",
   "metadata": {},
   "outputs": [
    {
     "ename": "BoundsError",
     "evalue": "BoundsError: attempt to access 5×15 Matrix{Float64} at index [10, 1:15]",
     "output_type": "error",
     "traceback": [
      "BoundsError: attempt to access 5×15 Matrix{Float64} at index [10, 1:15]\n",
      "\n",
      "Stacktrace:\n",
      " [1] throw_boundserror(A::Matrix{Float64}, I::Tuple{Int64, Base.Slice{Base.OneTo{Int64}}})\n",
      "   @ Base ./essentials.jl:14\n",
      " [2] checkbounds\n",
      "   @ ./abstractarray.jl:699 [inlined]\n",
      " [3] _getindex\n",
      "   @ ./multidimensional.jl:914 [inlined]\n",
      " [4] getindex(::Matrix{Float64}, ::Int64, ::Function)\n",
      "   @ Base ./abstractarray.jl:1312\n",
      " [5] top-level scope\n",
      "   @ ~/Documents/MPRO/1. Tronc Commun/MH/Projet/MH/jl_notebook_cell_df34fa98e69747e1a8f8a730347b8e2f_X22sZmlsZQ==.jl:1"
     ]
    }
   ],
   "source": [
    "ratio[10,:]"
   ]
  },
  {
   "cell_type": "code",
   "execution_count": 67,
   "id": "ebcb3c84",
   "metadata": {},
   "outputs": [
    {
     "data": {
      "text/plain": [
       "5×15 Matrix{Float64}:\n",
       " 0.956522  2.1      1.06667   1.30769   …  2.66667  0.6      2.75\n",
       " 1.35294   1.84615  2.375     0.652174     1.06667  2.3      0.909091\n",
       " 0.954545  1.17647  0.954545  1.08696      1.0      1.66667  0.6\n",
       " 3.4       1.10526  1.0       1.5625       1.4      3.125    0.92\n",
       " 0.681818  2.77778  2.3       0.826087     1.8      2.11111  0.761905"
      ]
     },
     "metadata": {},
     "output_type": "display_data"
    }
   ],
   "source": [
    "ratio"
   ]
  },
  {
   "cell_type": "code",
   "execution_count": 68,
   "id": "cb23f4fc",
   "metadata": {},
   "outputs": [],
   "source": []
  }
 ],
 "metadata": {
  "kernelspec": {
   "display_name": "Julia 1.11.0",
   "language": "julia",
   "name": "julia-1.11"
  },
  "language_info": {
   "file_extension": ".jl",
   "mimetype": "application/julia",
   "name": "julia",
   "version": "1.11.0"
  }
 },
 "nbformat": 4,
 "nbformat_minor": 5
}
