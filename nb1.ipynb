{
 "cells": [
  {
   "cell_type": "code",
   "execution_count": 1,
   "id": "574170bf-33f7-4a05-b0bc-4022bc7367ea",
   "metadata": {},
   "outputs": [
    {
     "name": "stdout",
     "output_type": "stream",
     "text": [
      "Hello World"
     ]
    }
   ],
   "source": [
    "print(\"Hello World\")"
   ]
  },
  {
   "cell_type": "code",
   "execution_count": 19,
   "id": "19b7322e-9d51-47c3-b8f5-cfa7e25f2f9e",
   "metadata": {},
   "outputs": [],
   "source": [
    "include(\"parser.jl\")\n",
    "\n",
    "r, c, b, m, t = readfile(\"Instances/gap1.txt\",2);"
   ]
  },
  {
   "cell_type": "code",
   "execution_count": 3,
   "id": "8d31039e",
   "metadata": {},
   "outputs": [
    {
     "name": "stdout",
     "output_type": "stream",
     "text": [
      "r : Any[19 8 16 19 11 25 20 5 23 11 20 8 18 5 12 13 12 6 11 8 8 23 17 9 18 5 6 23 9 24 24 19 23 13 10 5 11 24 10 22; 9 22 15 17 7 24 19 19 11 6 17 18 9 23 14 20 7 17 23 7 15 8 16 16 9 25 6 5 5 25 7 18 5 18 6 10 8 10 16 18; 20 22 15 23 25 25 6 5 14 23 11 5 20 6 5 7 8 9 17 6 8 13 22 19 5 18 13 20 16 12 23 25 11 19 8 21 9 22 8 22; 6 7 15 8 11 16 17 14 7 8 20 14 23 13 11 25 5 25 18 5 8 20 9 9 25 23 6 15 20 24 7 19 7 6 7 12 5 10 17 12; 25 12 10 20 12 24 20 14 21 5 20 9 12 13 22 23 14 14 14 25 21 5 8 11 19 14 17 15 25 13 14 16 21 8 6 19 7 6 22 20; 10 16 19 14 9 18 15 10 19 6 10 11 7 23 24 14 12 5 25 16 13 8 13 25 9 24 15 6 11 24 14 9 24 6 18 21 20 21 10 10; 6 8 20 24 9 24 24 10 21 20 12 11 8 24 5 8 10 25 5 6 9 8 20 16 14 7 25 11 10 24 17 23 13 16 9 8 5 15 21 23; 12 5 20 13 21 15 11 15 22 20 13 8 18 20 5 20 14 12 22 15 19 7 22 16 15 15 23 19 20 16 10 20 20 11 14 15 12 22 20 22; 22 24 10 12 19 20 14 16 10 11 9 15 17 25 5 14 21 24 24 19 15 10 24 9 14 24 15 16 19 14 14 22 13 17 10 11 6 16 12 9; 7 8 12 24 12 14 7 11 19 15 20 21 7 5 11 11 6 16 25 14 23 13 9 11 15 9 25 14 25 24 25 10 19 14 25 18 21 21 9 21]\n",
      "c : Any[24 18 17 19 19 24 20 23 15 25 21 18 18 18 19 20 25 15 23 21 25 21 17 21 22 19 20 17 18 19 16 22 20 21 21 16 24 16 20 24; 16 16 23 21 25 20 16 25 20 19 24 17 25 24 15 18 25 20 23 15 16 19 17 16 15 16 18 19 20 18 21 21 17 22 23 25 22 17 16 19; 25 19 20 25 20 20 24 20 24 20 23 21 18 20 18 20 22 22 20 15 21 17 22 20 24 24 15 21 15 25 18 21 24 17 20 19 20 18 22 20; 21 24 18 18 17 17 20 17 21 20 18 18 22 23 19 25 19 21 23 20 17 21 22 22 18 22 16 16 19 23 15 21 17 18 22 17 16 21 18 19; 24 16 19 15 23 22 17 23 25 16 22 17 21 22 22 16 20 23 21 25 18 16 25 22 18 21 22 24 19 19 21 20 22 25 25 20 25 22 15 22; 19 25 18 18 24 22 16 22 21 19 15 18 16 22 25 25 23 16 20 18 15 23 19 16 19 20 21 17 23 21 18 16 21 18 20 16 16 21 16 16; 18 16 24 18 17 20 19 24 17 18 24 18 24 22 16 19 23 22 18 21 15 15 17 24 18 20 23 21 23 16 19 24 19 15 22 20 25 20 22 17; 25 24 21 15 20 22 17 17 16 20 24 15 15 16 22 17 22 22 17 20 22 20 16 24 17 15 18 23 24 22 21 21 18 21 15 20 18 18 16 20; 15 18 18 17 21 23 24 24 18 24 18 19 16 25 19 17 19 24 15 19 19 19 22 24 15 21 18 19 21 16 20 25 24 24 21 16 23 25 24 22; 20 24 18 21 20 23 25 17 20 15 21 25 23 16 24 17 17 23 25 20 21 23 22 21 17 19 18 23 20 17 17 20 23 23 16 25 21 19 22 18]\n",
      "b : Any[45, 44, 46, 42, 49, 46, 45, 51, 49, 49]\n",
      "m : 10\n",
      "t : 40\n"
     ]
    }
   ],
   "source": [
    "variables = [\"r\", \"c\", \"b\", \"m\", \"t\"]\n",
    "values = [r, c, b, m, t]\n",
    "\n",
    "for i in 1:length(variables)\n",
    "    println(\"$(variables[i]) : $(values[i])\")\n",
    "end"
   ]
  },
  {
   "cell_type": "code",
   "execution_count": 4,
   "id": "5b77868a",
   "metadata": {},
   "outputs": [
    {
     "data": {
      "text/plain": [
       "10×40 Matrix{Any}:\n",
       " 19   8  16  19  11  25  20   5  23  …  19  23  13  10   5  11  24  10  22\n",
       "  9  22  15  17   7  24  19  19  11     18   5  18   6  10   8  10  16  18\n",
       " 20  22  15  23  25  25   6   5  14     25  11  19   8  21   9  22   8  22\n",
       "  6   7  15   8  11  16  17  14   7     19   7   6   7  12   5  10  17  12\n",
       " 25  12  10  20  12  24  20  14  21     16  21   8   6  19   7   6  22  20\n",
       " 10  16  19  14   9  18  15  10  19  …   9  24   6  18  21  20  21  10  10\n",
       "  6   8  20  24   9  24  24  10  21     23  13  16   9   8   5  15  21  23\n",
       " 12   5  20  13  21  15  11  15  22     20  20  11  14  15  12  22  20  22\n",
       " 22  24  10  12  19  20  14  16  10     22  13  17  10  11   6  16  12   9\n",
       "  7   8  12  24  12  14   7  11  19     10  19  14  25  18  21  21   9  21"
      ]
     },
     "metadata": {},
     "output_type": "display_data"
    }
   ],
   "source": [
    "# r : quantité de ressources consommées par tâche (matrix)\n",
    "r"
   ]
  },
  {
   "cell_type": "code",
   "execution_count": 5,
   "id": "cf2da2c6",
   "metadata": {},
   "outputs": [
    {
     "data": {
      "text/plain": [
       "10×40 Matrix{Any}:\n",
       " 24  18  17  19  19  24  20  23  15  …  22  20  21  21  16  24  16  20  24\n",
       " 16  16  23  21  25  20  16  25  20     21  17  22  23  25  22  17  16  19\n",
       " 25  19  20  25  20  20  24  20  24     21  24  17  20  19  20  18  22  20\n",
       " 21  24  18  18  17  17  20  17  21     21  17  18  22  17  16  21  18  19\n",
       " 24  16  19  15  23  22  17  23  25     20  22  25  25  20  25  22  15  22\n",
       " 19  25  18  18  24  22  16  22  21  …  16  21  18  20  16  16  21  16  16\n",
       " 18  16  24  18  17  20  19  24  17     24  19  15  22  20  25  20  22  17\n",
       " 25  24  21  15  20  22  17  17  16     21  18  21  15  20  18  18  16  20\n",
       " 15  18  18  17  21  23  24  24  18     25  24  24  21  16  23  25  24  22\n",
       " 20  24  18  21  20  23  25  17  20     20  23  23  16  25  21  19  22  18"
      ]
     },
     "metadata": {},
     "output_type": "display_data"
    }
   ],
   "source": [
    "# c : gain par tâche pour chaque agent (matrix)\n",
    "c"
   ]
  },
  {
   "cell_type": "code",
   "execution_count": 6,
   "id": "dcf44ebc",
   "metadata": {},
   "outputs": [
    {
     "data": {
      "text/plain": [
       "10-element Vector{Any}:\n",
       " 45\n",
       " 44\n",
       " 46\n",
       " 42\n",
       " 49\n",
       " 46\n",
       " 45\n",
       " 51\n",
       " 49\n",
       " 49"
      ]
     },
     "metadata": {},
     "output_type": "display_data"
    }
   ],
   "source": [
    "# b : quantité de ressource de l'agent i (vect)\n",
    "b"
   ]
  },
  {
   "cell_type": "code",
   "execution_count": 7,
   "id": "6d136212",
   "metadata": {},
   "outputs": [
    {
     "data": {
      "text/plain": [
       "10"
      ]
     },
     "metadata": {},
     "output_type": "display_data"
    }
   ],
   "source": [
    "# m : nombre d'agents (int) --> nombre de lignes\n",
    "m"
   ]
  },
  {
   "cell_type": "code",
   "execution_count": 8,
   "id": "e7ce62c2",
   "metadata": {},
   "outputs": [
    {
     "data": {
      "text/plain": [
       "40"
      ]
     },
     "metadata": {},
     "output_type": "display_data"
    }
   ],
   "source": [
    "# t : nombre de tâches (int) --> nombre de colonnes\n",
    "t"
   ]
  },
  {
   "cell_type": "markdown",
   "id": "e78de88e",
   "metadata": {},
   "source": [
    "### Heuristique gloutonne"
   ]
  },
  {
   "cell_type": "code",
   "execution_count": null,
   "id": "10852caf",
   "metadata": {},
   "outputs": [
    {
     "name": "stdout",
     "output_type": "stream",
     "text": [
      "Pas de solution."
     ]
    }
   ],
   "source": [
    "function greedy(file, instance)\n",
    "\n",
    "    r, c, b, m, t = readfile(file,instance);\n",
    "\n",
    "    current_load = fill(0, m)\n",
    "    assignment = fill(0, t)\n",
    "    cost = 0\n",
    "\n",
    "    end_condition = fill(100, m, t)\n",
    "\n",
    "    while r != end_condition\n",
    "        # Booléen pour sortir de la boucle si rien ne se passe\n",
    "        feasibility = false\n",
    "        for i in 1:m\n",
    "            # Si la tâche qui nécessite le moins de ressources satisfait la contrainte\n",
    "            min = minimum(r[i, :])\n",
    "            amin = argmin(r[i, :])\n",
    "            if current_load[i] + min <= b[i]\n",
    "                feasibility = true\n",
    "                # On assigne la nouvelle tâche à l'agent\n",
    "                assignment[amin] = i\n",
    "                # On augmente sa charge\n",
    "                current_load[i] += min\n",
    "                # On ajoute le coût associée\n",
    "                cost += c[i, amin]\n",
    "                # On enlève la tâche des tâches à assigner\n",
    "                r[:, amin] .= 100\n",
    "            end\n",
    "        end\n",
    "        if feasibility == false\n",
    "            # Pas de solution, on sort de la boucle\n",
    "            print(\"Pas de solution.\")\n",
    "            break\n",
    "        end\n",
    "\n",
    "    end"
   ]
  },
  {
   "cell_type": "code",
   "execution_count": 10,
   "id": "19eb7044",
   "metadata": {},
   "outputs": [
    {
     "data": {
      "text/plain": [
       "40-element Vector{Int64}:\n",
       " 10\n",
       "  8\n",
       "  7\n",
       "  8\n",
       "  2\n",
       "  8\n",
       "  3\n",
       "  1\n",
       "  4\n",
       "  5\n",
       "  ⋮\n",
       "  6\n",
       "  2\n",
       "  6\n",
       "  5\n",
       "  1\n",
       "  9\n",
       "  5\n",
       "  3\n",
       "  9"
      ]
     },
     "metadata": {},
     "output_type": "display_data"
    }
   ],
   "source": [
    "assignment"
   ]
  },
  {
   "cell_type": "code",
   "execution_count": 18,
   "id": "eaad3547",
   "metadata": {},
   "outputs": [
    {
     "data": {
      "text/plain": [
       "797"
      ]
     },
     "metadata": {},
     "output_type": "display_data"
    }
   ],
   "source": [
    "cost"
   ]
  },
  {
   "cell_type": "markdown",
   "id": "3e1e7f7e",
   "metadata": {},
   "source": [
    "### Heuristique gloutonne"
   ]
  },
  {
   "cell_type": "code",
   "execution_count": 11,
   "id": "b0d72f39",
   "metadata": {},
   "outputs": [
    {
     "data": {
      "text/plain": [
       "10×40 Matrix{Float64}:\n",
       " 0.24  0.18  0.17  0.19  0.19  0.24  …  0.21  0.16  0.24  0.16  0.2   0.24\n",
       " 0.16  0.16  0.23  0.21  0.25  0.2      0.23  0.25  0.22  0.17  0.16  0.19\n",
       " 0.25  0.19  0.2   0.25  0.2   0.2      0.2   0.19  0.2   0.18  0.22  0.2\n",
       " 0.21  0.24  0.18  0.18  0.17  0.17     0.22  0.17  0.16  0.21  0.18  0.19\n",
       " 0.24  0.16  0.19  0.15  0.23  0.22     0.25  0.2   0.25  0.22  0.15  0.22\n",
       " 0.19  0.25  0.18  0.18  0.24  0.22  …  0.2   0.16  0.16  0.21  0.16  0.16\n",
       " 0.18  0.16  0.24  0.18  0.17  0.2      0.22  0.2   0.25  0.2   0.22  0.17\n",
       " 0.25  0.24  0.21  0.15  0.2   0.22     0.15  0.2   0.18  0.18  0.16  0.2\n",
       " 0.15  0.18  0.18  0.17  0.21  0.23     0.21  0.16  0.23  0.25  0.24  0.22\n",
       " 0.2   0.24  0.18  0.21  0.2   0.23     0.16  0.25  0.21  0.19  0.22  0.18"
      ]
     },
     "metadata": {},
     "output_type": "display_data"
    }
   ],
   "source": [
    "ratio = c./r"
   ]
  },
  {
   "cell_type": "code",
   "execution_count": 12,
   "id": "ce0b9c0b",
   "metadata": {},
   "outputs": [
    {
     "data": {
      "text/plain": [
       "CartesianIndex(3, 1)"
      ]
     },
     "metadata": {},
     "output_type": "display_data"
    }
   ],
   "source": [
    "argmax(ratio)"
   ]
  },
  {
   "cell_type": "code",
   "execution_count": 13,
   "id": "51eb325b",
   "metadata": {},
   "outputs": [
    {
     "data": {
      "text/plain": [
       "10-element Vector{Float64}:\n",
       " 0.0\n",
       " 0.0\n",
       " 0.0\n",
       " 0.0\n",
       " 0.0\n",
       " 0.0\n",
       " 0.0\n",
       " 0.0\n",
       " 0.0\n",
       " 0.0"
      ]
     },
     "metadata": {},
     "output_type": "display_data"
    }
   ],
   "source": [
    "current_ressource = zeros(m)"
   ]
  },
  {
   "cell_type": "code",
   "execution_count": 14,
   "id": "53d2dde5",
   "metadata": {},
   "outputs": [
    {
     "data": {
      "text/plain": [
       "true"
      ]
     },
     "metadata": {},
     "output_type": "display_data"
    }
   ],
   "source": [
    "current_ressource[1] < b[1]"
   ]
  },
  {
   "cell_type": "code",
   "execution_count": 15,
   "id": "fb0d6b5b",
   "metadata": {},
   "outputs": [
    {
     "data": {
      "text/plain": [
       "40-element Vector{Float64}:\n",
       " 0.2\n",
       " 0.24\n",
       " 0.18\n",
       " 0.21\n",
       " 0.2\n",
       " 0.23\n",
       " 0.25\n",
       " 0.17\n",
       " 0.2\n",
       " 0.15\n",
       " ⋮\n",
       " 0.2\n",
       " 0.23\n",
       " 0.23\n",
       " 0.16\n",
       " 0.25\n",
       " 0.21\n",
       " 0.19\n",
       " 0.22\n",
       " 0.18"
      ]
     },
     "metadata": {},
     "output_type": "display_data"
    }
   ],
   "source": [
    "ratio[10,:]"
   ]
  },
  {
   "cell_type": "code",
   "execution_count": 16,
   "id": "ebcb3c84",
   "metadata": {},
   "outputs": [
    {
     "data": {
      "text/plain": [
       "10×40 Matrix{Float64}:\n",
       " 0.24  0.18  0.17  0.19  0.19  0.24  …  0.21  0.16  0.24  0.16  0.2   0.24\n",
       " 0.16  0.16  0.23  0.21  0.25  0.2      0.23  0.25  0.22  0.17  0.16  0.19\n",
       " 0.25  0.19  0.2   0.25  0.2   0.2      0.2   0.19  0.2   0.18  0.22  0.2\n",
       " 0.21  0.24  0.18  0.18  0.17  0.17     0.22  0.17  0.16  0.21  0.18  0.19\n",
       " 0.24  0.16  0.19  0.15  0.23  0.22     0.25  0.2   0.25  0.22  0.15  0.22\n",
       " 0.19  0.25  0.18  0.18  0.24  0.22  …  0.2   0.16  0.16  0.21  0.16  0.16\n",
       " 0.18  0.16  0.24  0.18  0.17  0.2      0.22  0.2   0.25  0.2   0.22  0.17\n",
       " 0.25  0.24  0.21  0.15  0.2   0.22     0.15  0.2   0.18  0.18  0.16  0.2\n",
       " 0.15  0.18  0.18  0.17  0.21  0.23     0.21  0.16  0.23  0.25  0.24  0.22\n",
       " 0.2   0.24  0.18  0.21  0.2   0.23     0.16  0.25  0.21  0.19  0.22  0.18"
      ]
     },
     "metadata": {},
     "output_type": "display_data"
    }
   ],
   "source": [
    "ratio"
   ]
  },
  {
   "cell_type": "code",
   "execution_count": 17,
   "id": "cb23f4fc",
   "metadata": {},
   "outputs": [],
   "source": []
  }
 ],
 "metadata": {
  "kernelspec": {
   "display_name": "Julia 1.11.0",
   "language": "julia",
   "name": "julia-1.11"
  },
  "language_info": {
   "file_extension": ".jl",
   "mimetype": "application/julia",
   "name": "julia",
   "version": "1.11.0"
  }
 },
 "nbformat": 4,
 "nbformat_minor": 5
}
